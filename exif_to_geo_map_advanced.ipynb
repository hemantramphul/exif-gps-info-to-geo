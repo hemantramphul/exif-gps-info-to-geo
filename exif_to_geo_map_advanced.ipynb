{
 "cells": [
  {
   "cell_type": "markdown",
   "metadata": {},
   "source": [
    "# Install Required Libraries\n",
    "\n",
    "Installs the necessary Python libraries, including Pillow for image processing, Geopy for geographical computations, and gmplot for visualizing coordinates on a map."
   ]
  },
  {
   "cell_type": "code",
   "execution_count": 1,
   "metadata": {},
   "outputs": [
    {
     "name": "stdout",
     "output_type": "stream",
     "text": [
      "Requirement already satisfied: pillow in c:\\users\\hramphul\\appdata\\local\\programs\\python\\python312\\lib\\site-packages (11.0.0)\n",
      "Requirement already satisfied: geopy in c:\\users\\hramphul\\appdata\\local\\programs\\python\\python312\\lib\\site-packages (2.4.1)\n",
      "Requirement already satisfied: gmplot in c:\\users\\hramphul\\appdata\\local\\programs\\python\\python312\\lib\\site-packages (1.4.1)\n",
      "Requirement already satisfied: geographiclib<3,>=1.52 in c:\\users\\hramphul\\appdata\\local\\programs\\python\\python312\\lib\\site-packages (from geopy) (2.0)\n",
      "Requirement already satisfied: requests in c:\\users\\hramphul\\appdata\\local\\programs\\python\\python312\\lib\\site-packages (from gmplot) (2.32.3)\n",
      "Requirement already satisfied: charset-normalizer<4,>=2 in c:\\users\\hramphul\\appdata\\local\\programs\\python\\python312\\lib\\site-packages (from requests->gmplot) (3.4.0)\n",
      "Requirement already satisfied: idna<4,>=2.5 in c:\\users\\hramphul\\appdata\\local\\programs\\python\\python312\\lib\\site-packages (from requests->gmplot) (3.10)\n",
      "Requirement already satisfied: urllib3<3,>=1.21.1 in c:\\users\\hramphul\\appdata\\local\\programs\\python\\python312\\lib\\site-packages (from requests->gmplot) (2.2.3)\n",
      "Requirement already satisfied: certifi>=2017.4.17 in c:\\users\\hramphul\\appdata\\local\\programs\\python\\python312\\lib\\site-packages (from requests->gmplot) (2024.8.30)\n",
      "Note: you may need to restart the kernel to use updated packages.\n"
     ]
    },
    {
     "name": "stderr",
     "output_type": "stream",
     "text": [
      "\n",
      "[notice] A new release of pip is available: 24.2 -> 24.3.1\n",
      "[notice] To update, run: python.exe -m pip install --upgrade pip\n"
     ]
    }
   ],
   "source": [
    "%pip install pillow geopy gmplot"
   ]
  },
  {
   "cell_type": "markdown",
   "metadata": {},
   "source": [
    "# Import Libraries\n",
    "\n",
    "Imports the required libraries for working with image files and EXIF data.\n"
   ]
  },
  {
   "cell_type": "code",
   "execution_count": 2,
   "metadata": {},
   "outputs": [],
   "source": [
    "import os\n",
    "from PIL import Image\n",
    "from PIL.ExifTags import TAGS"
   ]
  },
  {
   "cell_type": "markdown",
   "metadata": {},
   "source": [
    "# Extract EXIF Data\n",
    "\n",
    "This function extracts the EXIF metadata from an image file, which may include details such as camera settings, date/time, and GPS information."
   ]
  },
  {
   "cell_type": "code",
   "execution_count": 3,
   "metadata": {},
   "outputs": [],
   "source": [
    "def extract_exif(image_file):\n",
    "    \"\"\"\n",
    "    Extracts the EXIF data from an image file.\n",
    "\n",
    "    Args:\n",
    "        image_file (str): The path to the image file.\n",
    "\n",
    "    Returns:\n",
    "        dict: A dictionary of EXIF tags and their values.\n",
    "    \"\"\"\n",
    "    try:\n",
    "        image = Image.open(image_file)\n",
    "        exif = {}\n",
    "        if image._getexif() is not None:\n",
    "            for tag, value in image._getexif().items():\n",
    "                if tag in TAGS:\n",
    "                    exif[TAGS[tag]] = value\n",
    "        return exif\n",
    "    except Exception as e:\n",
    "        print(f\"Error reading EXIF data: {e}\")\n",
    "        return {}"
   ]
  },
  {
   "cell_type": "markdown",
   "metadata": {},
   "source": [
    "# Get GPS Information\n",
    "\n",
    "This function extracts GPS data (`latitude` and `longitude`) from the EXIF metadata of an image. Returns `None` if no GPS data is found."
   ]
  },
  {
   "cell_type": "code",
   "execution_count": 4,
   "metadata": {},
   "outputs": [],
   "source": [
    "def get_gps_info(exif_data):\n",
    "    \"\"\"\n",
    "    Extracts GPS information from EXIF data.\n",
    "\n",
    "    Args:\n",
    "        exif_data (dict): A dictionary of EXIF tags and their values.\n",
    "\n",
    "    Returns:\n",
    "        dict or None: A dictionary containing GPS coordinates and references, or None if not available.\n",
    "    \"\"\"\n",
    "    if \"GPSInfo\" in exif_data:\n",
    "        gps_info = exif_data[\"GPSInfo\"]\n",
    "        return {\n",
    "            \"lat\": gps_info[2],\n",
    "            \"lat_ref\": gps_info[1],\n",
    "            \"lon\": gps_info[4],\n",
    "            \"lon_ref\": gps_info[3]\n",
    "        }\n",
    "    return None\n"
   ]
  },
  {
   "cell_type": "markdown",
   "metadata": {},
   "source": [
    "# Convert GPS Coordinates to Degrees\n",
    "\n",
    "Converts GPS coordinates stored in EXIF metadata into degrees (`float` format).\n",
    "This is used to make the data usable for mapping or further calculations."
   ]
  },
  {
   "cell_type": "code",
   "execution_count": 5,
   "metadata": {},
   "outputs": [],
   "source": [
    "def convert_to_degrees(value):\n",
    "    \"\"\"\n",
    "    Converts GPS coordinates stored in EXIF to degrees in float format.\n",
    "\n",
    "    Args:\n",
    "        value (tuple): The GPS coordinate as a tuple (degrees, minutes, seconds).\n",
    "\n",
    "    Returns:\n",
    "        float: The coordinate in degrees.\n",
    "    \"\"\"\n",
    "    d = float(value[0])\n",
    "    m = float(value[1])\n",
    "    s = float(value[2])\n",
    "    return d + (m / 60.0) + (s / 3600.0)"
   ]
  },
  {
   "cell_type": "markdown",
   "metadata": {},
   "source": [
    "# Format GPS Coordinates\n",
    "\n",
    "Formats raw GPS data into a human-readable string and computes `latitude` and `longitude` in float. Also adjusts for hemispherical references (`N/S`, `E/W`)."
   ]
  },
  {
   "cell_type": "code",
   "execution_count": 6,
   "metadata": {},
   "outputs": [],
   "source": [
    "def format_gps_coordinates(gps_data):\n",
    "    \"\"\"\n",
    "    Converts raw GPS data into a formatted string and calculates latitude and longitude in float.\n",
    "\n",
    "    Args:\n",
    "        gps_data (dict): A dictionary containing raw GPS data.\n",
    "\n",
    "    Returns:\n",
    "        tuple: A formatted string and float values of latitude and longitude.\n",
    "    \"\"\"\n",
    "    lat = convert_to_degrees(gps_data[\"lat\"])\n",
    "    lon = convert_to_degrees(gps_data[\"lon\"])\n",
    "\n",
    "    # Adjust the sign based on N/S and E/W references\n",
    "    if gps_data[\"lat_ref\"] != \"N\":\n",
    "        lat = -lat\n",
    "    if gps_data[\"lon_ref\"] != \"E\":\n",
    "        lon = -lon\n",
    "\n",
    "    formatted = f\"{lat}° {gps_data['lat_ref']}, {lon}° {gps_data['lon_ref']}\"\n",
    "    return formatted, lat, lon"
   ]
  },
  {
   "cell_type": "markdown",
   "metadata": {},
   "source": [
    "# Create Google Maps Link\n",
    "Generates a Google Maps URL based on `latitude` and `longitude`."
   ]
  },
  {
   "cell_type": "code",
   "execution_count": 7,
   "metadata": {},
   "outputs": [],
   "source": [
    "def create_google_maps_link(lat, lon):\n",
    "    \"\"\"\n",
    "    Creates a Google Maps link for the given coordinates.\n",
    "\n",
    "    Args:\n",
    "        lat (float): Latitude.\n",
    "        lon (float): Longitude.\n",
    "\n",
    "    Returns:\n",
    "        str: A Google Maps link.\n",
    "    \"\"\"\n",
    "    return f\"https://www.google.com/maps?q={lat},{lon}\""
   ]
  },
  {
   "cell_type": "markdown",
   "metadata": {},
   "source": [
    "# Example Usage\n",
    "Demonstrates the usage of the functions to extract GPS coordinates from an image, format the coordinates, and create a Google Maps link."
   ]
  },
  {
   "cell_type": "code",
   "execution_count": 8,
   "metadata": {},
   "outputs": [
    {
     "name": "stdout",
     "output_type": "stream",
     "text": [
      "GPS Coordinates: 48.88197250555556° N, 2.3547717416666667° E\n",
      "Google Maps link: https://www.google.com/maps?q=48.88197250555556,2.3547717416666667\n"
     ]
    }
   ],
   "source": [
    "image_path = \"images/4.jpg\"\n",
    "exif_data = extract_exif(image_path)\n",
    "gps_data = get_gps_info(exif_data)\n",
    "\n",
    "if gps_data:\n",
    "    formatted_coords, latitude, longitude = format_gps_coordinates(gps_data)\n",
    "    print(f\"GPS Coordinates: {formatted_coords}\")\n",
    "    print(f\"Google Maps link: {create_google_maps_link(latitude, longitude)}\")\n",
    "else:\n",
    "    print(\"No GPS information found.\")\n"
   ]
  }
 ],
 "metadata": {
  "kernelspec": {
   "display_name": "Python 3",
   "language": "python",
   "name": "python3"
  },
  "language_info": {
   "codemirror_mode": {
    "name": "ipython",
    "version": 3
   },
   "file_extension": ".py",
   "mimetype": "text/x-python",
   "name": "python",
   "nbconvert_exporter": "python",
   "pygments_lexer": "ipython3",
   "version": "3.12.7"
  }
 },
 "nbformat": 4,
 "nbformat_minor": 2
}
