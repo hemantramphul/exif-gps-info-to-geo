{
 "cells": [
  {
   "cell_type": "markdown",
   "metadata": {},
   "source": [
    "# Install necessary Python libraries\n",
    "* Pillow: for image processing and handling EXIF metadata\n",
    "* Geopy: for geocoding and reverse geocoding\n",
    "* gmplot: for generating Google Maps plots"
   ]
  },
  {
   "cell_type": "code",
   "execution_count": 19,
   "metadata": {},
   "outputs": [
    {
     "name": "stdout",
     "output_type": "stream",
     "text": [
      "Requirement already satisfied: pillow in c:\\users\\hramphul\\appdata\\local\\programs\\python\\python312\\lib\\site-packages (11.0.0)\n",
      "Requirement already satisfied: geopy in c:\\users\\hramphul\\appdata\\local\\programs\\python\\python312\\lib\\site-packages (2.4.1)\n",
      "Requirement already satisfied: gmplot in c:\\users\\hramphul\\appdata\\local\\programs\\python\\python312\\lib\\site-packages (1.4.1)\n",
      "Requirement already satisfied: geographiclib<3,>=1.52 in c:\\users\\hramphul\\appdata\\local\\programs\\python\\python312\\lib\\site-packages (from geopy) (2.0)\n",
      "Requirement already satisfied: requests in c:\\users\\hramphul\\appdata\\local\\programs\\python\\python312\\lib\\site-packages (from gmplot) (2.32.3)\n",
      "Requirement already satisfied: charset-normalizer<4,>=2 in c:\\users\\hramphul\\appdata\\local\\programs\\python\\python312\\lib\\site-packages (from requests->gmplot) (3.4.0)\n",
      "Requirement already satisfied: idna<4,>=2.5 in c:\\users\\hramphul\\appdata\\local\\programs\\python\\python312\\lib\\site-packages (from requests->gmplot) (3.10)\n",
      "Requirement already satisfied: urllib3<3,>=1.21.1 in c:\\users\\hramphul\\appdata\\local\\programs\\python\\python312\\lib\\site-packages (from requests->gmplot) (2.2.3)\n",
      "Requirement already satisfied: certifi>=2017.4.17 in c:\\users\\hramphul\\appdata\\local\\programs\\python\\python312\\lib\\site-packages (from requests->gmplot) (2024.8.30)\n",
      "Note: you may need to restart the kernel to use updated packages.\n"
     ]
    },
    {
     "name": "stderr",
     "output_type": "stream",
     "text": [
      "\n",
      "[notice] A new release of pip is available: 24.2 -> 24.3.1\n",
      "[notice] To update, run: python.exe -m pip install --upgrade pip\n"
     ]
    }
   ],
   "source": [
    "%pip install pillow geopy gmplot"
   ]
  },
  {
   "cell_type": "markdown",
   "metadata": {},
   "source": [
    "Import Pillow library to work with images and open the specified image\n"
   ]
  },
  {
   "cell_type": "code",
   "execution_count": 20,
   "metadata": {},
   "outputs": [],
   "source": [
    "from PIL import Image\n",
    "image = Image.open('images/4.jpg')\n",
    "exif_data = image._getexif()"
   ]
  },
  {
   "cell_type": "markdown",
   "metadata": {},
   "source": [
    "Extract EXIF metadata as a dictionary with readable tags."
   ]
  },
  {
   "cell_type": "code",
   "execution_count": 21,
   "metadata": {},
   "outputs": [],
   "source": [
    "import PIL.ExifTags\n",
    "\n",
    "exif = {\n",
    "    PIL.ExifTags.TAGS[k]: v\n",
    "    for k, v in image._getexif().items()\n",
    "    if k in PIL.ExifTags.TAGS\n",
    "}"
   ]
  },
  {
   "cell_type": "code",
   "execution_count": 22,
   "metadata": {},
   "outputs": [
    {
     "name": "stdout",
     "output_type": "stream",
     "text": [
      "{0: 33554432, 1: 'N', 2: (48.0, 52.0, 55.10102), 3: 'E', 4: (2.0, 21.0, 17.17827), 17: 0.0, 6: 95.303}\n"
     ]
    }
   ],
   "source": [
    "print(exif['GPSInfo'])"
   ]
  },
  {
   "cell_type": "markdown",
   "metadata": {},
   "source": [
    "Extract raw GPS data for latitude (north) and longitude (east)\n"
   ]
  },
  {
   "cell_type": "code",
   "execution_count": 23,
   "metadata": {},
   "outputs": [
    {
     "name": "stdout",
     "output_type": "stream",
     "text": [
      "(48.0, 52.0, 55.10102)\n",
      "(2.0, 21.0, 17.17827)\n"
     ]
    }
   ],
   "source": [
    "north = exif['GPSInfo'][2]\n",
    "east = exif['GPSInfo'][4]\n",
    "print(north)\n",
    "print(east)"
   ]
  },
  {
   "cell_type": "markdown",
   "metadata": {},
   "source": [
    "Convert latitude and longitude from degrees-minutes-seconds to decimal format\n"
   ]
  },
  {
   "cell_type": "code",
   "execution_count": 24,
   "metadata": {},
   "outputs": [
    {
     "name": "stdout",
     "output_type": "stream",
     "text": [
      "48.88197250555555\n",
      "2.3547717416666667\n"
     ]
    },
    {
     "data": {
      "text/plain": [
       "(48.88197250555556, 2.3547717416666667)"
      ]
     },
     "execution_count": 24,
     "metadata": {},
     "output_type": "execute_result"
    }
   ],
   "source": [
    "lat = ((((north[0]*60) + north[1])*60) + north[2]) / 60 / 60\n",
    "long = ((((east[0]*60) + east[1])*60) + east[2]) / 60 / 60\n",
    "\n",
    "lat, long = float(lat), float(long)\n",
    "\n",
    "print(lat)\n",
    "print(long)\n",
    "(48.88197250555556, 2.3547717416666667)"
   ]
  },
  {
   "cell_type": "markdown",
   "metadata": {},
   "source": [
    "Create a GoogleMapPlotter object centered on the extracted coordinates and add a marker at the specified location with a blue color then save the map as an HTML file.\n"
   ]
  },
  {
   "cell_type": "code",
   "execution_count": 25,
   "metadata": {},
   "outputs": [],
   "source": [
    "from gmplot import gmplot\n",
    "\n",
    "gmap = gmplot.GoogleMapPlotter(lat, long, 12)\n",
    "gmap.marker(lat, long, \"cornflowerblue\")\n",
    "gmap.draw(\"location.html\")\n"
   ]
  },
  {
   "cell_type": "markdown",
   "metadata": {},
   "source": [
    "Use Geopy's Nominatim geocoder to retrieve the address for the coordinates."
   ]
  },
  {
   "cell_type": "code",
   "execution_count": 26,
   "metadata": {},
   "outputs": [
    {
     "name": "stdout",
     "output_type": "stream",
     "text": [
      "Quartier Saint-Vincent-de-Paul, Paris 10e Arrondissement, Paris, Île-de-France, France métropolitaine, 75010, France\n"
     ]
    }
   ],
   "source": [
    "from geopy.geocoders import Nominatim\n",
    "\n",
    "geoLoc = Nominatim(user_agent=\"GetLoc\")\n",
    "locname = geoLoc.reverse(f\"{lat}, {long}\")\n",
    "print(locname.address)"
   ]
  },
  {
   "cell_type": "markdown",
   "metadata": {},
   "source": [
    "Open the generated map HTML file in a new browser tab."
   ]
  },
  {
   "cell_type": "code",
   "execution_count": 27,
   "metadata": {},
   "outputs": [
    {
     "data": {
      "text/plain": [
       "True"
      ]
     },
     "execution_count": 27,
     "metadata": {},
     "output_type": "execute_result"
    }
   ],
   "source": [
    "import webbrowser\n",
    "webbrowser.open(\"location.html\", new=2)"
   ]
  }
 ],
 "metadata": {
  "kernelspec": {
   "display_name": "Python 3",
   "language": "python",
   "name": "python3"
  },
  "language_info": {
   "codemirror_mode": {
    "name": "ipython",
    "version": 3
   },
   "file_extension": ".py",
   "mimetype": "text/x-python",
   "name": "python",
   "nbconvert_exporter": "python",
   "pygments_lexer": "ipython3",
   "version": "3.12.7"
  }
 },
 "nbformat": 4,
 "nbformat_minor": 2
}
